{
 "cells": [
  {
   "cell_type": "code",
   "execution_count": null,
   "metadata": {},
   "outputs": [],
   "source": [
    "%pip install -U diffusers bitsandbytes accelerate"
   ]
  },
  {
   "cell_type": "code",
   "execution_count": null,
   "metadata": {},
   "outputs": [],
   "source": [
    "from diffusers import DiffusionPipeline\n",
    "import torch\n",
    "\n",
    "pipe = DiffusionPipeline.from_pretrained(\n",
    "    \"playgroundai/playground-v2-1024px-aesthetic\",\n",
    "    torch_dtype=torch.float16,\n",
    "    use_safetensors=True,\n",
    "    add_watermarker=False,\n",
    "    device_map=\"auto\",\n",
    "    variant=\"fp16\"\n",
    ")\n",
    "pipe.to(\"cuda\")\n",
    "\n",
    "prompt = \"Astronaut in a jungle, cold color palette, muted colors, detailed, 8k\"\n",
    "image  = pipe(prompt=prompt, guidance_scale=3.0).images[0]\n",
    "image"
   ]
  },
  {
   "cell_type": "code",
   "execution_count": null,
   "metadata": {},
   "outputs": [],
   "source": [
    "import ipywidgets as widgets\n",
    "from IPython.display import display, Markdown, HTML\n",
    "import numpy as np\n",
    "\n",
    "class ChatApp:\n",
    "    def __init__(self):\n",
    "\n",
    "        # Create UI components\n",
    "        self.output = widgets.Output(layout={'border': 'None'})\n",
    "        self.input_box = widgets.Text(placeholder='Type your prompt...', layout={'width': '70%'})\n",
    "        self.input_box.on_submit(self.send_message)\n",
    "        self.send_button = widgets.Button(description='Send', layout={'width': '20%'})\n",
    "        self.send_button.on_click(self.send_message)\n",
    "\n",
    "        # Display UI\n",
    "        display(widgets.HBox([self.input_box, self.send_button]))\n",
    "        display(self.output)\n",
    "\n",
    "    def send_message(self, _):\n",
    "        message = self.input_box.value\n",
    "        self.input_box.value = ''  # Clear the input box\n",
    "\n",
    "        # Display sent message\n",
    "        with self.output:\n",
    "            display(Markdown(f'## User: {message}'))\n",
    "\n",
    "        # Simulate a response (you can replace this with actual logic)\n",
    "        image = self.generate_response(message)\n",
    "\n",
    "        # Display received message\n",
    "        with self.output:\n",
    "            display(image)\n",
    "\n",
    "    def generate_response(self, prompt):\n",
    "        image  = pipe(prompt=prompt, guidance_scale=3.0).images[0]\n",
    "        return image\n",
    "\n",
    "# Create an instance of the ChatApp\n",
    "chat_app = ChatApp()"
   ]
  }
 ],
 "metadata": {
  "language_info": {
   "name": "python"
  }
 },
 "nbformat": 4,
 "nbformat_minor": 2
}
