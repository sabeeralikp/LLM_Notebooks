{
 "cells": [
  {
   "cell_type": "code",
   "execution_count": null,
   "metadata": {},
   "outputs": [],
   "source": [
    "%pip install -U transformers bitsandbytes accelerate"
   ]
  },
  {
   "cell_type": "code",
   "execution_count": null,
   "metadata": {},
   "outputs": [],
   "source": [
    "import torch\n",
    "from transformers import AutoModelForCausalLM, AutoTokenizer\n",
    "\n",
    "tokenizer = AutoTokenizer.from_pretrained(\"Upstage/SOLAR-10.7B-Instruct-v1.0\")\n",
    "model = AutoModelForCausalLM.from_pretrained(\n",
    "    \"Upstage/SOLAR-10.7B-Instruct-v1.0\",\n",
    "    device_map=\"auto\",\n",
    "    load_in_4bit=True,\n",
    ")"
   ]
  },
  {
   "cell_type": "code",
   "execution_count": null,
   "metadata": {},
   "outputs": [],
   "source": [
    "conversation = [ {'role': 'user', 'content': 'Hello?'} ]\n",
    "\n",
    "prompt = tokenizer.apply_chat_template(conversation, tokenize=False, add_generation_prompt=True)\n",
    "\n",
    "inputs = tokenizer(prompt, return_tensors=\"pt\").to(model.device)\n",
    "outputs = model.generate(**inputs, use_cache=True, max_length=4096)\n",
    "output_text = tokenizer.decode(outputs[0])\n",
    "print(output_text)"
   ]
  },
  {
   "cell_type": "code",
   "execution_count": null,
   "metadata": {},
   "outputs": [],
   "source": [
    "import ipywidgets as widgets\n",
    "from IPython.display import display, Markdown, HTML\n",
    "\n",
    "class ChatApp:\n",
    "    def __init__(self):\n",
    "        self.message_history = []\n",
    "\n",
    "        # Create UI components\n",
    "        self.output = widgets.Output(layout={'border': 'None'})\n",
    "        self.input_box = widgets.Text(placeholder='Type your message...', layout={'width': '70%'})\n",
    "        self.input_box.on_submit(self.send_message)\n",
    "        self.send_button = widgets.Button(description='Send', layout={'width': '20%'})\n",
    "        self.send_button.on_click(self.send_message)\n",
    "\n",
    "        # Display UI\n",
    "        display(widgets.HBox([self.input_box, self.send_button]))\n",
    "        display(self.output)\n",
    "\n",
    "    def send_message(self, _):\n",
    "        message = self.input_box.value\n",
    "        self.input_box.value = ''  # Clear the input box\n",
    "\n",
    "        # Display sent message\n",
    "        with self.output:\n",
    "            display(Markdown(f'### User:\\n{message}'))\n",
    "            self.message_history.append({'role': 'user', 'content': message})\n",
    "\n",
    "        # Simulate a response (you can replace this with actual logic)\n",
    "        response = self.generate_response(message)\n",
    "\n",
    "        # Display received message\n",
    "        with self.output:\n",
    "            text = response.replace(\"<s>\", \"\").replace(\"</s>\",\"\").split(\"### Assistant:\")[-1]\n",
    "            display(Markdown(f'\\n### Assistant: \\n{text}'))\n",
    "            self.message_history.append({'role': 'assistant', 'content': text})\n",
    "\n",
    "    def generate_response(self, message):\n",
    "        progress_bar = widgets.IntProgress(\n",
    "            value=0,\n",
    "            min=0,\n",
    "            max=100,\n",
    "            bar_style='', # 'success', 'info', 'warning', 'danger' or ''\n",
    "            orientation='horizontal'\n",
    "        )\n",
    "        display(progress_bar)\n",
    "        # Replace this with your own logic to generate a response\n",
    "        prompt = tokenizer.apply_chat_template(self.message_history, tokenize=False, add_generation_prompt=True)\n",
    "        progress_bar.value += 5\n",
    "        inputs = tokenizer(prompt, return_tensors=\"pt\").to(model.device)\n",
    "        progress_bar.value += 15\n",
    "        outputs = model.generate(**inputs, use_cache=True, max_length=4096)\n",
    "        progress_bar.value += 30\n",
    "        output_text = tokenizer.decode(outputs[0])\n",
    "        progress_bar.value += 50\n",
    "        progress_bar.bar_style = \"success\"\n",
    "        progress_bar.close()\n",
    "        return output_text\n",
    "\n",
    "# Create an instance of the ChatApp\n",
    "chat_app = ChatApp()"
   ]
  }
 ],
 "metadata": {
  "language_info": {
   "name": "python"
  }
 },
 "nbformat": 4,
 "nbformat_minor": 2
}
